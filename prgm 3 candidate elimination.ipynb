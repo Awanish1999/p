{
 "cells": [
  {
   "cell_type": "code",
   "execution_count": 2,
   "id": "981b06e7",
   "metadata": {},
   "outputs": [
    {
     "name": "stdout",
     "output_type": "stream",
     "text": [
      "[0, 1, 2, 3, 4, 5]\n",
      "[]\n",
      "['sunny' ' warm' ' normal' ' strong' ' warm' ' same']\n"
     ]
    }
   ],
   "source": [
    "import pandas as pd\n",
    "dataset=pd.read_csv(\"prgm3.csv\")\n",
    "x=dataset.iloc[:,0:-1].values\n",
    "y=dataset.iloc[:,-1].values\n",
    "s=x[0]\n",
    "g=[[\"?\" for i in range(len(s))] for i in range(len(s))]\n",
    "for i,h in enumerate(x):\n",
    "    if y[i]==\"Yes\":\n",
    "        for j in range (len(s)):\n",
    "            if h[j]!=s[j]:\n",
    "                s[j]=\"?\"\n",
    "                g[j][j]=\"?\"\n",
    "    if y[i]==\"No\":\n",
    "        for j in range (len(s)):\n",
    "            if h[j]!=s[j]:\n",
    "                g[j][j]=s[j]\n",
    "            else:\n",
    "                g[j][j]=\"?\"\n",
    "ind=[i for i,val in enumerate(g) if val==[\"?\"]*6]\n",
    "print(ind)\n",
    "for i in ind:\n",
    "    g.remove([\"?\"]*6)\n",
    "print(g)\n",
    "print(s)\n",
    "            "
   ]
  },
  {
   "cell_type": "code",
   "execution_count": null,
   "id": "ccfe59f8",
   "metadata": {},
   "outputs": [],
   "source": []
  },
  {
   "cell_type": "code",
   "execution_count": null,
   "id": "fe86dc15",
   "metadata": {},
   "outputs": [],
   "source": []
  }
 ],
 "metadata": {
  "kernelspec": {
   "display_name": "Python 3",
   "language": "python",
   "name": "python3"
  },
  "language_info": {
   "codemirror_mode": {
    "name": "ipython",
    "version": 3
   },
   "file_extension": ".py",
   "mimetype": "text/x-python",
   "name": "python",
   "nbconvert_exporter": "python",
   "pygments_lexer": "ipython3",
   "version": "3.8.8"
  }
 },
 "nbformat": 4,
 "nbformat_minor": 5
}
